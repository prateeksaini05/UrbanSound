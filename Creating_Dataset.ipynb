{
 "cells": [
  {
   "cell_type": "code",
   "execution_count": 1,
   "id": "0b17e0e8",
   "metadata": {
    "scrolled": true
   },
   "outputs": [
    {
     "name": "stderr",
     "output_type": "stream",
     "text": [
      "WARNING: pip is being invoked by an old script wrapper. This will fail in a future version of pip.\n",
      "Please see https://github.com/pypa/pip/issues/5599 for advice on fixing the underlying issue.\n",
      "To avoid this problem you can invoke Python with '-m pip' instead of running pip directly.\n"
     ]
    },
    {
     "name": "stdout",
     "output_type": "stream",
     "text": [
      "Requirement already satisfied: progressbar in c:\\users\\prateek saini\\anaconda3\\lib\\site-packages (2.5)\n"
     ]
    },
    {
     "data": {
      "text/plain": [
       "0"
      ]
     },
     "execution_count": 1,
     "metadata": {},
     "output_type": "execute_result"
    }
   ],
   "source": [
    "from pip._internal import main\n",
    "main([\"install\",\"progressbar\"])"
   ]
  },
  {
   "cell_type": "code",
   "execution_count": 2,
   "id": "e911500f",
   "metadata": {
    "scrolled": true
   },
   "outputs": [
    {
     "name": "stdout",
     "output_type": "stream",
     "text": [
      "Requirement already satisfied: librosa in c:\\users\\prateek saini\\anaconda3\\lib\\site-packages (0.9.0)\n",
      "Requirement already satisfied: decorator>=4.0.10 in c:\\users\\prateek saini\\anaconda3\\lib\\site-packages (from librosa) (5.0.6)\n",
      "Requirement already satisfied: pooch>=1.0 in c:\\users\\prateek saini\\anaconda3\\lib\\site-packages (from librosa) (1.6.0)\n",
      "Requirement already satisfied: packaging>=20.0 in c:\\users\\prateek saini\\anaconda3\\lib\\site-packages (from librosa) (20.9)\n",
      "Requirement already satisfied: joblib>=0.14 in c:\\users\\prateek saini\\anaconda3\\lib\\site-packages (from librosa) (1.0.1)\n",
      "Requirement already satisfied: numpy>=1.17.0 in c:\\users\\prateek saini\\anaconda3\\lib\\site-packages (from librosa) (1.20.1)\n",
      "Requirement already satisfied: soundfile>=0.10.2 in c:\\users\\prateek saini\\anaconda3\\lib\\site-packages (from librosa) (0.10.3.post1)\n",
      "Requirement already satisfied: numba>=0.45.1 in c:\\users\\prateek saini\\anaconda3\\lib\\site-packages (from librosa) (0.53.1)\n",
      "Requirement already satisfied: resampy>=0.2.2 in c:\\users\\prateek saini\\anaconda3\\lib\\site-packages (from librosa) (0.2.2)\n",
      "Requirement already satisfied: scipy>=1.2.0 in c:\\users\\prateek saini\\anaconda3\\lib\\site-packages (from librosa) (1.6.2)\n",
      "Requirement already satisfied: scikit-learn>=0.19.1 in c:\\users\\prateek saini\\anaconda3\\lib\\site-packages (from librosa) (0.24.1)\n",
      "Requirement already satisfied: audioread>=2.1.5 in c:\\users\\prateek saini\\anaconda3\\lib\\site-packages (from librosa) (2.1.9)\n",
      "Requirement already satisfied: setuptools in c:\\users\\prateek saini\\anaconda3\\lib\\site-packages (from numba>=0.45.1->librosa) (52.0.0.post20210125)\n",
      "Requirement already satisfied: llvmlite<0.37,>=0.36.0rc1 in c:\\users\\prateek saini\\anaconda3\\lib\\site-packages (from numba>=0.45.1->librosa) (0.36.0)\n",
      "Requirement already satisfied: pyparsing>=2.0.2 in c:\\users\\prateek saini\\anaconda3\\lib\\site-packages (from packaging>=20.0->librosa) (2.4.7)\n",
      "Requirement already satisfied: appdirs>=1.3.0 in c:\\users\\prateek saini\\anaconda3\\lib\\site-packages (from pooch>=1.0->librosa) (1.4.4)\n",
      "Requirement already satisfied: requests>=2.19.0 in c:\\users\\prateek saini\\anaconda3\\lib\\site-packages (from pooch>=1.0->librosa) (2.25.1)\n",
      "Requirement already satisfied: urllib3<1.27,>=1.21.1 in c:\\users\\prateek saini\\anaconda3\\lib\\site-packages (from requests>=2.19.0->pooch>=1.0->librosa) (1.26.4)\n",
      "Requirement already satisfied: idna<3,>=2.5 in c:\\users\\prateek saini\\anaconda3\\lib\\site-packages (from requests>=2.19.0->pooch>=1.0->librosa) (2.10)\n",
      "Requirement already satisfied: certifi>=2017.4.17 in c:\\users\\prateek saini\\anaconda3\\lib\\site-packages (from requests>=2.19.0->pooch>=1.0->librosa) (2020.12.5)\n",
      "Requirement already satisfied: chardet<5,>=3.0.2 in c:\\users\\prateek saini\\anaconda3\\lib\\site-packages (from requests>=2.19.0->pooch>=1.0->librosa) (4.0.0)\n",
      "Requirement already satisfied: six>=1.3 in c:\\users\\prateek saini\\anaconda3\\lib\\site-packages (from resampy>=0.2.2->librosa) (1.15.0)\n",
      "Requirement already satisfied: threadpoolctl>=2.0.0 in c:\\users\\prateek saini\\anaconda3\\lib\\site-packages (from scikit-learn>=0.19.1->librosa) (2.1.0)\n",
      "Requirement already satisfied: cffi>=1.0 in c:\\users\\prateek saini\\anaconda3\\lib\\site-packages (from soundfile>=0.10.2->librosa) (1.14.5)\n",
      "Requirement already satisfied: pycparser in c:\\users\\prateek saini\\anaconda3\\lib\\site-packages (from cffi>=1.0->soundfile>=0.10.2->librosa) (2.20)\n"
     ]
    }
   ],
   "source": [
    "!pip install librosa"
   ]
  },
  {
   "cell_type": "code",
   "execution_count": 3,
   "id": "b3c24b26",
   "metadata": {},
   "outputs": [],
   "source": [
    "import os\n",
    "os.chdir(\"D:\\minor project\\data\")"
   ]
  },
  {
   "cell_type": "code",
   "execution_count": 4,
   "id": "1514f602",
   "metadata": {},
   "outputs": [
    {
     "name": "stdout",
     "output_type": "stream",
     "text": [
      " Volume in drive D is Prateek\n",
      " Volume Serial Number is 86FA-61CB\n",
      "\n",
      " Directory of D:\\minor project\\data\n",
      "\n",
      "12-02-2022  00:07    <DIR>          .\n",
      "12-02-2022  00:07    <DIR>          ..\n",
      "25-03-2020  06:04             2,175 DataCollection.py\n",
      "25-03-2020  06:04         4,788,924 dataset.npy\n",
      "11-02-2022  23:50         1,901,844 dataset_melspectrogram.npy\n",
      "26-12-2021  22:40    <DIR>          UrbanSound8K\n",
      "25-03-2020  06:04    <DIR>          Urbansound8k-master\n",
      "11-02-2022  23:20        34,013,981 Urbansound8k-master.zip\n",
      "26-12-2021  17:40     6,023,741,708 UrbanSound8K.tar.gz\n",
      "11-02-2022  23:36    <DIR>          __pycache__\n",
      "               5 File(s)  6,064,448,632 bytes\n",
      "               5 Dir(s)  229,812,994,048 bytes free\n"
     ]
    }
   ],
   "source": [
    "!dir"
   ]
  },
  {
   "cell_type": "code",
   "execution_count": 5,
   "id": "4f830137",
   "metadata": {
    "scrolled": true
   },
   "outputs": [],
   "source": [
    "import DataCollection as dc"
   ]
  },
  {
   "cell_type": "code",
   "execution_count": 6,
   "id": "81af6da9",
   "metadata": {},
   "outputs": [],
   "source": [
    "import progressbar\n",
    "import time\n",
    "import os\n",
    "import struct\n",
    "import matplotlib.pyplot as plt\n",
    "import IPython.display as ipd\n",
    "import pandas as pd\n",
    "import numpy as np\n",
    "import librosa # for sound processing.\n",
    "import DataCollection as dc # a local module\n",
    "from scipy.io import wavfile as wav\n",
    "from scipy.signal import chirp\n",
    "import soundfile as sf"
   ]
  },
  {
   "cell_type": "code",
   "execution_count": 7,
   "id": "c51d2e81",
   "metadata": {},
   "outputs": [
    {
     "data": {
      "text/html": [
       "<div>\n",
       "<style scoped>\n",
       "    .dataframe tbody tr th:only-of-type {\n",
       "        vertical-align: middle;\n",
       "    }\n",
       "\n",
       "    .dataframe tbody tr th {\n",
       "        vertical-align: top;\n",
       "    }\n",
       "\n",
       "    .dataframe thead th {\n",
       "        text-align: right;\n",
       "    }\n",
       "</style>\n",
       "<table border=\"1\" class=\"dataframe\">\n",
       "  <thead>\n",
       "    <tr style=\"text-align: right;\">\n",
       "      <th></th>\n",
       "      <th>slice_file_name</th>\n",
       "      <th>fsID</th>\n",
       "      <th>start</th>\n",
       "      <th>end</th>\n",
       "      <th>salience</th>\n",
       "      <th>fold</th>\n",
       "      <th>classID</th>\n",
       "      <th>class</th>\n",
       "    </tr>\n",
       "  </thead>\n",
       "  <tbody>\n",
       "    <tr>\n",
       "      <th>0</th>\n",
       "      <td>100032-3-0-0.wav</td>\n",
       "      <td>100032</td>\n",
       "      <td>0.0</td>\n",
       "      <td>0.317551</td>\n",
       "      <td>1</td>\n",
       "      <td>5</td>\n",
       "      <td>3</td>\n",
       "      <td>dog_bark</td>\n",
       "    </tr>\n",
       "    <tr>\n",
       "      <th>1</th>\n",
       "      <td>100263-2-0-117.wav</td>\n",
       "      <td>100263</td>\n",
       "      <td>58.5</td>\n",
       "      <td>62.500000</td>\n",
       "      <td>1</td>\n",
       "      <td>5</td>\n",
       "      <td>2</td>\n",
       "      <td>children_playing</td>\n",
       "    </tr>\n",
       "    <tr>\n",
       "      <th>2</th>\n",
       "      <td>100263-2-0-121.wav</td>\n",
       "      <td>100263</td>\n",
       "      <td>60.5</td>\n",
       "      <td>64.500000</td>\n",
       "      <td>1</td>\n",
       "      <td>5</td>\n",
       "      <td>2</td>\n",
       "      <td>children_playing</td>\n",
       "    </tr>\n",
       "    <tr>\n",
       "      <th>3</th>\n",
       "      <td>100263-2-0-126.wav</td>\n",
       "      <td>100263</td>\n",
       "      <td>63.0</td>\n",
       "      <td>67.000000</td>\n",
       "      <td>1</td>\n",
       "      <td>5</td>\n",
       "      <td>2</td>\n",
       "      <td>children_playing</td>\n",
       "    </tr>\n",
       "    <tr>\n",
       "      <th>4</th>\n",
       "      <td>100263-2-0-137.wav</td>\n",
       "      <td>100263</td>\n",
       "      <td>68.5</td>\n",
       "      <td>72.500000</td>\n",
       "      <td>1</td>\n",
       "      <td>5</td>\n",
       "      <td>2</td>\n",
       "      <td>children_playing</td>\n",
       "    </tr>\n",
       "  </tbody>\n",
       "</table>\n",
       "</div>"
      ],
      "text/plain": [
       "      slice_file_name    fsID  start        end  salience  fold  classID  \\\n",
       "0    100032-3-0-0.wav  100032    0.0   0.317551         1     5        3   \n",
       "1  100263-2-0-117.wav  100263   58.5  62.500000         1     5        2   \n",
       "2  100263-2-0-121.wav  100263   60.5  64.500000         1     5        2   \n",
       "3  100263-2-0-126.wav  100263   63.0  67.000000         1     5        2   \n",
       "4  100263-2-0-137.wav  100263   68.5  72.500000         1     5        2   \n",
       "\n",
       "              class  \n",
       "0          dog_bark  \n",
       "1  children_playing  \n",
       "2  children_playing  \n",
       "3  children_playing  \n",
       "4  children_playing  "
      ]
     },
     "execution_count": 7,
     "metadata": {},
     "output_type": "execute_result"
    }
   ],
   "source": [
    "data = pd.read_csv(\"UrbanSound8K/metadata/UrbanSound8K.csv\")\n",
    "data.head()"
   ]
  },
  {
   "cell_type": "code",
   "execution_count": 8,
   "id": "01c5c28f",
   "metadata": {},
   "outputs": [
    {
     "data": {
      "text/plain": [
       "8732"
      ]
     },
     "execution_count": 8,
     "metadata": {},
     "output_type": "execute_result"
    }
   ],
   "source": [
    "data.shape[0]"
   ]
  },
  {
   "cell_type": "code",
   "execution_count": 9,
   "id": "c238e5fb",
   "metadata": {},
   "outputs": [
    {
     "data": {
      "text/plain": [
       "(8732, 2)"
      ]
     },
     "execution_count": 9,
     "metadata": {},
     "output_type": "execute_result"
    }
   ],
   "source": [
    "dataset = np.zeros(shape = (data.shape[0],2),dtype = object)\n",
    "dataset.shape"
   ]
  },
  {
   "cell_type": "code",
   "execution_count": 10,
   "id": "cdd4d4e9",
   "metadata": {},
   "outputs": [
    {
     "name": "stderr",
     "output_type": "stream",
     "text": [
      "C:\\Users\\Prateek Saini\\anaconda3\\lib\\site-packages\\librosa\\core\\spectrum.py:2538: UserWarning: n_fft=2048 is too small for input signal of length=1323\n",
      "  stft(\n",
      "C:\\Users\\Prateek Saini\\anaconda3\\lib\\site-packages\\librosa\\core\\spectrum.py:2538: UserWarning: n_fft=2048 is too small for input signal of length=1103\n",
      "  stft(\n",
      "C:\\Users\\Prateek Saini\\anaconda3\\lib\\site-packages\\librosa\\core\\spectrum.py:2538: UserWarning: n_fft=2048 is too small for input signal of length=1523\n",
      "  stft(\n",
      "||$$$$$$$$$$$$$$$$$$$$$$$$$$$$$$$$$$$ ||  99%\r"
     ]
    }
   ],
   "source": [
    "bar = progressbar.ProgressBar(maxval=data.shape[0], widgets=[progressbar.Bar('$', '||', '||'), ' ', progressbar.Percentage()])\n",
    "bar.start()\n",
    "for i in range(data.shape[0]):\n",
    "    \n",
    "    fullpath, class_id = dc.path_class(data,data.slice_file_name[i])\n",
    "    try:\n",
    "        X, sample_rate = librosa.load(fullpath, res_type='kaiser_fast')\n",
    "        mfccs = np.mean(librosa.feature.mfcc(y=X, sr=sample_rate, n_mfcc=40).T,axis=0)\n",
    "    except Exception:\n",
    "        print(\"Error encountered while parsing file: \", file)\n",
    "        mfccs,class_id = None, None\n",
    "    feature = mfccs\n",
    "    label = class_id\n",
    "    dataset[i,0],dataset[i,1] = feature,label\n",
    "    \n",
    "    bar.update(i+1)"
   ]
  },
  {
   "cell_type": "code",
   "execution_count": 11,
   "id": "912285b8",
   "metadata": {},
   "outputs": [],
   "source": [
    "np.save(\"dataset_melspectrogram\",dataset,allow_pickle=True)"
   ]
  },
  {
   "cell_type": "code",
   "execution_count": 12,
   "id": "aa5a1897",
   "metadata": {},
   "outputs": [],
   "source": [
    "l = np.load(\"dataset_melspectrogram.npy\",allow_pickle=True)"
   ]
  },
  {
   "cell_type": "code",
   "execution_count": 13,
   "id": "d6ce9cb6",
   "metadata": {},
   "outputs": [
    {
     "data": {
      "text/plain": [
       "(8732, 2)"
      ]
     },
     "execution_count": 13,
     "metadata": {},
     "output_type": "execute_result"
    }
   ],
   "source": [
    "l.shape"
   ]
  },
  {
   "cell_type": "code",
   "execution_count": 14,
   "id": "fc4481d4",
   "metadata": {},
   "outputs": [
    {
     "data": {
      "text/plain": [
       "'car_horn'"
      ]
     },
     "execution_count": 14,
     "metadata": {},
     "output_type": "execute_result"
    }
   ],
   "source": [
    "l[8730,1]"
   ]
  },
  {
   "cell_type": "code",
   "execution_count": 15,
   "id": "0fe8f85e",
   "metadata": {
    "scrolled": true
   },
   "outputs": [],
   "source": [
    "X, sample_rate = librosa.load(\"UrbanSound8K/audio/fold5/100263-2-0-117.wav\", res_type='kaiser_fast')\n",
    "mfccs = np.mean(librosa.feature.melspectrogram(y=X, sr=sample_rate).T,axis=0)"
   ]
  },
  {
   "cell_type": "code",
   "execution_count": 16,
   "id": "6fcac0fd",
   "metadata": {},
   "outputs": [
    {
     "data": {
      "text/plain": [
       "(128,)"
      ]
     },
     "execution_count": 16,
     "metadata": {},
     "output_type": "execute_result"
    }
   ],
   "source": [
    "mfccs.shape"
   ]
  },
  {
   "cell_type": "code",
   "execution_count": 17,
   "id": "86251c4f",
   "metadata": {},
   "outputs": [
    {
     "data": {
      "text/plain": [
       "(40,)"
      ]
     },
     "execution_count": 17,
     "metadata": {},
     "output_type": "execute_result"
    }
   ],
   "source": [
    "l[6561,0].shape"
   ]
  },
  {
   "cell_type": "code",
   "execution_count": 18,
   "id": "428d3825",
   "metadata": {},
   "outputs": [],
   "source": [
    "import numpy as np\n",
    "import pandas as pd\n",
    "\n",
    "data = pd.DataFrame(np.load(\"dataset.npy\",allow_pickle= True))\n",
    "data.columns = ['feature', 'label']\n",
    "\n",
    "from sklearn.preprocessing import LabelEncoder\n",
    "\n",
    "X = np.array(data.feature.tolist())\n",
    "y = np.array(data.label.tolist())\n",
    "from sklearn.model_selection import train_test_split\n",
    "X,val_x,y,val_y = train_test_split(X,y)\n",
    "lb = LabelEncoder()\n",
    "\n",
    "from keras.utils import np_utils\n",
    "\n",
    "y = np_utils.to_categorical(lb.fit_transform(y))\n",
    "val_y = np_utils.to_categorical(lb.fit_transform(val_y))"
   ]
  },
  {
   "cell_type": "code",
   "execution_count": 19,
   "id": "d2f5ce78",
   "metadata": {},
   "outputs": [],
   "source": [
    "import numpy as np\n",
    "from keras.models import Sequential\n",
    "from keras.layers import Dense, Dropout, Activation, Flatten\n",
    "from keras.layers import Convolution2D, MaxPooling2D\n",
    "from tensorflow.keras.optimizers import Adam\n",
    "from keras.utils import np_utils\n",
    "from sklearn import metrics \n",
    "\n",
    "\n",
    "\n",
    "num_labels = y.shape[1]\n",
    "filter_size = 3\n",
    "\n",
    "\n",
    "\n",
    "# build model\n",
    "model = Sequential()\n",
    "\n",
    "\n",
    "model.add(Dense(512, input_shape=(40,)))\n",
    "model.add(Activation('relu'))\n",
    "model.add(Dropout(0.5))\n",
    "\n",
    "\n",
    "model.add(Dense(256))\n",
    "model.add(Activation('relu'))\n",
    "model.add(Dropout(0.5))\n",
    "\n",
    "\n",
    "model.add(Dense(num_labels))\n",
    "model.add(Activation('softmax'))\n",
    "\n",
    "\n",
    "\n",
    "model.compile(loss='categorical_crossentropy', metrics=['accuracy'], optimizer='adam')"
   ]
  },
  {
   "cell_type": "code",
   "execution_count": 20,
   "id": "eba76c60",
   "metadata": {},
   "outputs": [
    {
     "name": "stdout",
     "output_type": "stream",
     "text": [
      "Model: \"sequential\"\n",
      "_________________________________________________________________\n",
      " Layer (type)                Output Shape              Param #   \n",
      "=================================================================\n",
      " dense (Dense)               (None, 512)               20992     \n",
      "                                                                 \n",
      " activation (Activation)     (None, 512)               0         \n",
      "                                                                 \n",
      " dropout (Dropout)           (None, 512)               0         \n",
      "                                                                 \n",
      " dense_1 (Dense)             (None, 256)               131328    \n",
      "                                                                 \n",
      " activation_1 (Activation)   (None, 256)               0         \n",
      "                                                                 \n",
      " dropout_1 (Dropout)         (None, 256)               0         \n",
      "                                                                 \n",
      " dense_2 (Dense)             (None, 10)                2570      \n",
      "                                                                 \n",
      " activation_2 (Activation)   (None, 10)                0         \n",
      "                                                                 \n",
      "=================================================================\n",
      "Total params: 154,890\n",
      "Trainable params: 154,890\n",
      "Non-trainable params: 0\n",
      "_________________________________________________________________\n"
     ]
    }
   ],
   "source": [
    "model.summary()\n"
   ]
  },
  {
   "cell_type": "code",
   "execution_count": 21,
   "id": "24ea12f1",
   "metadata": {},
   "outputs": [
    {
     "name": "stdout",
     "output_type": "stream",
     "text": [
      "Epoch 1/51\n",
      "103/103 [==============================] - 2s 11ms/step - loss: 7.3748 - accuracy: 0.1915 - val_loss: 2.1850 - val_accuracy: 0.1585\n",
      "Epoch 2/51\n",
      "103/103 [==============================] - 1s 6ms/step - loss: 2.2188 - accuracy: 0.2278 - val_loss: 2.0661 - val_accuracy: 0.2694\n",
      "Epoch 3/51\n",
      "103/103 [==============================] - 1s 6ms/step - loss: 2.0569 - accuracy: 0.2742 - val_loss: 1.9474 - val_accuracy: 0.3335\n",
      "Epoch 4/51\n",
      "103/103 [==============================] - 1s 6ms/step - loss: 1.9708 - accuracy: 0.3080 - val_loss: 1.8261 - val_accuracy: 0.3999\n",
      "Epoch 5/51\n",
      "103/103 [==============================] - 1s 6ms/step - loss: 1.8511 - accuracy: 0.3443 - val_loss: 1.7066 - val_accuracy: 0.4517\n",
      "Epoch 6/51\n",
      "103/103 [==============================] - 1s 6ms/step - loss: 1.7821 - accuracy: 0.3798 - val_loss: 1.5697 - val_accuracy: 0.5030\n",
      "Epoch 7/51\n",
      "103/103 [==============================] - 1s 6ms/step - loss: 1.6808 - accuracy: 0.4040 - val_loss: 1.5126 - val_accuracy: 0.5259\n",
      "Epoch 8/51\n",
      "103/103 [==============================] - 1s 6ms/step - loss: 1.5892 - accuracy: 0.4353 - val_loss: 1.4249 - val_accuracy: 0.5616\n",
      "Epoch 9/51\n",
      "103/103 [==============================] - 1s 6ms/step - loss: 1.5270 - accuracy: 0.4642 - val_loss: 1.3060 - val_accuracy: 0.5827\n",
      "Epoch 10/51\n",
      "103/103 [==============================] - 1s 6ms/step - loss: 1.4263 - accuracy: 0.5039 - val_loss: 1.2153 - val_accuracy: 0.6244\n",
      "Epoch 11/51\n",
      "103/103 [==============================] - 1s 6ms/step - loss: 1.3835 - accuracy: 0.5259 - val_loss: 1.1552 - val_accuracy: 0.6427\n",
      "Epoch 12/51\n",
      "103/103 [==============================] - 1s 6ms/step - loss: 1.2999 - accuracy: 0.5444 - val_loss: 1.0685 - val_accuracy: 0.6541\n",
      "Epoch 13/51\n",
      "103/103 [==============================] - 1s 6ms/step - loss: 1.2487 - accuracy: 0.5706 - val_loss: 1.0351 - val_accuracy: 0.6816\n",
      "Epoch 14/51\n",
      "103/103 [==============================] - 1s 6ms/step - loss: 1.1922 - accuracy: 0.5899 - val_loss: 0.9946 - val_accuracy: 0.7018\n",
      "Epoch 15/51\n",
      "103/103 [==============================] - 1s 6ms/step - loss: 1.1268 - accuracy: 0.6148 - val_loss: 0.9406 - val_accuracy: 0.7077\n",
      "Epoch 16/51\n",
      "103/103 [==============================] - 1s 6ms/step - loss: 1.0834 - accuracy: 0.6256 - val_loss: 0.9142 - val_accuracy: 0.7174\n",
      "Epoch 17/51\n",
      "103/103 [==============================] - 1s 6ms/step - loss: 1.0550 - accuracy: 0.6410 - val_loss: 0.8669 - val_accuracy: 0.7325\n",
      "Epoch 18/51\n",
      "103/103 [==============================] - 1s 6ms/step - loss: 1.0198 - accuracy: 0.6519 - val_loss: 0.8313 - val_accuracy: 0.7398\n",
      "Epoch 19/51\n",
      "103/103 [==============================] - 1s 6ms/step - loss: 0.9666 - accuracy: 0.6673 - val_loss: 0.7929 - val_accuracy: 0.7540\n",
      "Epoch 20/51\n",
      "103/103 [==============================] - 1s 6ms/step - loss: 0.9599 - accuracy: 0.6789 - val_loss: 0.7823 - val_accuracy: 0.7572\n",
      "Epoch 21/51\n",
      "103/103 [==============================] - 1s 6ms/step - loss: 0.9060 - accuracy: 0.6908 - val_loss: 0.7399 - val_accuracy: 0.7732\n",
      "Epoch 22/51\n",
      "103/103 [==============================] - 1s 6ms/step - loss: 0.8806 - accuracy: 0.6987 - val_loss: 0.7151 - val_accuracy: 0.7897\n",
      "Epoch 23/51\n",
      "103/103 [==============================] - 1s 6ms/step - loss: 0.8508 - accuracy: 0.7084 - val_loss: 0.7041 - val_accuracy: 0.7874\n",
      "Epoch 24/51\n",
      "103/103 [==============================] - 1s 6ms/step - loss: 0.8267 - accuracy: 0.7166 - val_loss: 0.6694 - val_accuracy: 0.7989\n",
      "Epoch 25/51\n",
      "103/103 [==============================] - 1s 6ms/step - loss: 0.8100 - accuracy: 0.7268 - val_loss: 0.6681 - val_accuracy: 0.8126\n",
      "Epoch 26/51\n",
      "103/103 [==============================] - 1s 6ms/step - loss: 0.7763 - accuracy: 0.7364 - val_loss: 0.6400 - val_accuracy: 0.8081\n",
      "Epoch 27/51\n",
      "103/103 [==============================] - 1s 6ms/step - loss: 0.7577 - accuracy: 0.7380 - val_loss: 0.6294 - val_accuracy: 0.8163\n",
      "Epoch 28/51\n",
      "103/103 [==============================] - 1s 6ms/step - loss: 0.7376 - accuracy: 0.7455 - val_loss: 0.6200 - val_accuracy: 0.8191\n",
      "Epoch 29/51\n",
      "103/103 [==============================] - 1s 6ms/step - loss: 0.7165 - accuracy: 0.7540 - val_loss: 0.6197 - val_accuracy: 0.8126\n",
      "Epoch 30/51\n",
      "103/103 [==============================] - 1s 6ms/step - loss: 0.6991 - accuracy: 0.7629 - val_loss: 0.5734 - val_accuracy: 0.8255\n",
      "Epoch 31/51\n",
      "103/103 [==============================] - 1s 6ms/step - loss: 0.6845 - accuracy: 0.7624 - val_loss: 0.5984 - val_accuracy: 0.8273\n",
      "Epoch 32/51\n",
      "103/103 [==============================] - 1s 6ms/step - loss: 0.6631 - accuracy: 0.7667 - val_loss: 0.5686 - val_accuracy: 0.8310\n",
      "Epoch 33/51\n",
      "103/103 [==============================] - 1s 6ms/step - loss: 0.6803 - accuracy: 0.7714 - val_loss: 0.5737 - val_accuracy: 0.8429\n",
      "Epoch 34/51\n",
      "103/103 [==============================] - 1s 6ms/step - loss: 0.6498 - accuracy: 0.7717 - val_loss: 0.5380 - val_accuracy: 0.8429\n",
      "Epoch 35/51\n",
      "103/103 [==============================] - 1s 6ms/step - loss: 0.6298 - accuracy: 0.7832 - val_loss: 0.5264 - val_accuracy: 0.8530\n",
      "Epoch 36/51\n",
      "103/103 [==============================] - 1s 6ms/step - loss: 0.6146 - accuracy: 0.7902 - val_loss: 0.5398 - val_accuracy: 0.8433\n",
      "Epoch 37/51\n",
      "103/103 [==============================] - 1s 6ms/step - loss: 0.6176 - accuracy: 0.7858 - val_loss: 0.5283 - val_accuracy: 0.8415\n",
      "Epoch 38/51\n",
      "103/103 [==============================] - 1s 6ms/step - loss: 0.6045 - accuracy: 0.7926 - val_loss: 0.5199 - val_accuracy: 0.8424\n",
      "Epoch 39/51\n",
      "103/103 [==============================] - 1s 6ms/step - loss: 0.5891 - accuracy: 0.7962 - val_loss: 0.5335 - val_accuracy: 0.8488\n",
      "Epoch 40/51\n",
      "103/103 [==============================] - 1s 6ms/step - loss: 0.5821 - accuracy: 0.8035 - val_loss: 0.5118 - val_accuracy: 0.8507\n",
      "Epoch 41/51\n",
      "103/103 [==============================] - 1s 6ms/step - loss: 0.5738 - accuracy: 0.8067 - val_loss: 0.5246 - val_accuracy: 0.8502\n",
      "Epoch 42/51\n",
      "103/103 [==============================] - 1s 6ms/step - loss: 0.5606 - accuracy: 0.8090 - val_loss: 0.4868 - val_accuracy: 0.8575\n",
      "Epoch 43/51\n",
      "103/103 [==============================] - 1s 6ms/step - loss: 0.5514 - accuracy: 0.8104 - val_loss: 0.4898 - val_accuracy: 0.8575\n",
      "Epoch 44/51\n",
      "103/103 [==============================] - 1s 6ms/step - loss: 0.5335 - accuracy: 0.8137 - val_loss: 0.4678 - val_accuracy: 0.8612\n",
      "Epoch 45/51\n",
      "103/103 [==============================] - 1s 6ms/step - loss: 0.5604 - accuracy: 0.8082 - val_loss: 0.4910 - val_accuracy: 0.8548\n",
      "Epoch 46/51\n",
      "103/103 [==============================] - 1s 6ms/step - loss: 0.5224 - accuracy: 0.8213 - val_loss: 0.4858 - val_accuracy: 0.8534\n",
      "Epoch 47/51\n",
      "103/103 [==============================] - 1s 6ms/step - loss: 0.5168 - accuracy: 0.8213 - val_loss: 0.4592 - val_accuracy: 0.8644\n",
      "Epoch 48/51\n",
      "103/103 [==============================] - 1s 6ms/step - loss: 0.5173 - accuracy: 0.8197 - val_loss: 0.4554 - val_accuracy: 0.8575\n",
      "Epoch 49/51\n",
      "103/103 [==============================] - 1s 6ms/step - loss: 0.5161 - accuracy: 0.8207 - val_loss: 0.4593 - val_accuracy: 0.8676\n",
      "Epoch 50/51\n",
      "103/103 [==============================] - 1s 6ms/step - loss: 0.5139 - accuracy: 0.8253 - val_loss: 0.4667 - val_accuracy: 0.8676\n",
      "Epoch 51/51\n",
      "103/103 [==============================] - 1s 6ms/step - loss: 0.4909 - accuracy: 0.8294 - val_loss: 0.4555 - val_accuracy: 0.8607\n"
     ]
    },
    {
     "data": {
      "text/plain": [
       "<keras.callbacks.History at 0x2509f6cf310>"
      ]
     },
     "execution_count": 21,
     "metadata": {},
     "output_type": "execute_result"
    }
   ],
   "source": [
    "model.fit(X, y, batch_size=64, epochs=51, validation_data=(val_x, val_y))"
   ]
  },
  {
   "cell_type": "code",
   "execution_count": 22,
   "id": "bbf8474f",
   "metadata": {},
   "outputs": [],
   "source": [
    "train = np.argmax(y,axis =  1)"
   ]
  },
  {
   "cell_type": "code",
   "execution_count": 23,
   "id": "735e045f",
   "metadata": {},
   "outputs": [
    {
     "data": {
      "text/plain": [
       "(6549,)"
      ]
     },
     "execution_count": 23,
     "metadata": {},
     "output_type": "execute_result"
    }
   ],
   "source": [
    "train.shape"
   ]
  },
  {
   "cell_type": "code",
   "execution_count": 24,
   "id": "b63452f8",
   "metadata": {},
   "outputs": [],
   "source": [
    "test = np.argmax(val_y,axis =  1)"
   ]
  },
  {
   "cell_type": "code",
   "execution_count": 25,
   "id": "041f8d97",
   "metadata": {},
   "outputs": [
    {
     "data": {
      "text/plain": [
       "(6549, 40)"
      ]
     },
     "execution_count": 25,
     "metadata": {},
     "output_type": "execute_result"
    }
   ],
   "source": [
    "x =X\n",
    "X.shape"
   ]
  },
  {
   "cell_type": "code",
   "execution_count": 26,
   "id": "d247157a",
   "metadata": {},
   "outputs": [],
   "source": [
    "test_x = val_x"
   ]
  },
  {
   "cell_type": "code",
   "execution_count": 27,
   "id": "1fad23e6",
   "metadata": {},
   "outputs": [
    {
     "name": "stdout",
     "output_type": "stream",
     "text": [
      "Requirement already satisfied: xgboost in c:\\users\\prateek saini\\anaconda3\\lib\\site-packages (1.5.2)\n",
      "Requirement already satisfied: scipy in c:\\users\\prateek saini\\anaconda3\\lib\\site-packages (from xgboost) (1.6.2)\n",
      "Requirement already satisfied: numpy in c:\\users\\prateek saini\\anaconda3\\lib\\site-packages (from xgboost) (1.20.1)\n"
     ]
    }
   ],
   "source": [
    "!pip install xgboost\n",
    "from xgboost import XGBClassifier"
   ]
  },
  {
   "cell_type": "code",
   "execution_count": 28,
   "id": "3234538b",
   "metadata": {},
   "outputs": [],
   "source": [
    "model = XGBClassifier(learning_rate =0.1, \n",
    "                      n_estimators=280, \n",
    "                      max_depth=5,\n",
    "                      min_child_weight=1, \n",
    "                      gamma=0, \n",
    "                      subsample=0.8, \n",
    "                      colsample_bytree=0.8,\n",
    "                      objective= 'binary:logistic', \n",
    "                      nthread=4, \n",
    "                      scale_pos_weight=1, \n",
    "                      seed=60)"
   ]
  },
  {
   "cell_type": "code",
   "execution_count": 29,
   "id": "8155c5ee",
   "metadata": {},
   "outputs": [
    {
     "name": "stdout",
     "output_type": "stream",
     "text": [
      "[12:10:54] WARNING: C:/Users/Administrator/workspace/xgboost-win64_release_1.5.1/src/learner.cc:576: \n",
      "Parameters: { \"scale_pos_weight\" } might not be used.\n",
      "\n",
      "  This could be a false alarm, with some parameters getting used by language bindings but\n",
      "  then being mistakenly passed down to XGBoost core, or some parameter actually being used\n",
      "  but getting flagged wrongly here. Please open an issue if you find any such cases.\n",
      "\n",
      "\n"
     ]
    },
    {
     "name": "stderr",
     "output_type": "stream",
     "text": [
      "C:\\Users\\Prateek Saini\\anaconda3\\lib\\site-packages\\xgboost\\sklearn.py:1224: UserWarning: The use of label encoder in XGBClassifier is deprecated and will be removed in a future release. To remove this warning, do the following: 1) Pass option use_label_encoder=False when constructing XGBClassifier object; and 2) Encode your labels (y) as integers starting with 0, i.e. 0, 1, 2, ..., [num_class - 1].\n",
      "  warnings.warn(label_encoder_deprecation_msg, UserWarning)\n"
     ]
    },
    {
     "name": "stdout",
     "output_type": "stream",
     "text": [
      "[12:10:54] WARNING: C:/Users/Administrator/workspace/xgboost-win64_release_1.5.1/src/learner.cc:1115: Starting in XGBoost 1.3.0, the default evaluation metric used with the objective 'multi:softprob' was changed from 'merror' to 'mlogloss'. Explicitly set eval_metric if you'd like to restore the old behavior.\n"
     ]
    },
    {
     "data": {
      "text/plain": [
       "XGBClassifier(base_score=0.5, booster='gbtree', colsample_bylevel=1,\n",
       "              colsample_bynode=1, colsample_bytree=0.8,\n",
       "              enable_categorical=False, gamma=0, gpu_id=-1,\n",
       "              importance_type=None, interaction_constraints='',\n",
       "              learning_rate=0.1, max_delta_step=0, max_depth=5,\n",
       "              min_child_weight=1, missing=nan, monotone_constraints='()',\n",
       "              n_estimators=280, n_jobs=4, nthread=4, num_parallel_tree=1,\n",
       "              objective='multi:softprob', predictor='auto', random_state=60,\n",
       "              reg_alpha=0, reg_lambda=1, scale_pos_weight=1, seed=60,\n",
       "              subsample=0.8, tree_method='exact', validate_parameters=1, ...)"
      ]
     },
     "execution_count": 29,
     "metadata": {},
     "output_type": "execute_result"
    }
   ],
   "source": [
    "model.fit(x,train)"
   ]
  },
  {
   "cell_type": "code",
   "execution_count": 30,
   "id": "573067b0",
   "metadata": {},
   "outputs": [],
   "source": [
    "pred = model.predict(test_x)"
   ]
  },
  {
   "cell_type": "code",
   "execution_count": 31,
   "id": "7bdc3ef2",
   "metadata": {},
   "outputs": [
    {
     "data": {
      "text/plain": [
       "array([5, 5, 2, ..., 2, 4, 9], dtype=int64)"
      ]
     },
     "execution_count": 31,
     "metadata": {},
     "output_type": "execute_result"
    }
   ],
   "source": [
    "test"
   ]
  },
  {
   "cell_type": "code",
   "execution_count": 32,
   "id": "3c6d56ce",
   "metadata": {},
   "outputs": [
    {
     "data": {
      "text/plain": [
       "array([5, 5, 2, ..., 2, 4, 9], dtype=int64)"
      ]
     },
     "execution_count": 32,
     "metadata": {},
     "output_type": "execute_result"
    }
   ],
   "source": [
    "pred"
   ]
  },
  {
   "cell_type": "code",
   "execution_count": 33,
   "id": "6dd2bc22",
   "metadata": {},
   "outputs": [
    {
     "data": {
      "text/plain": [
       "0.8923499770957398"
      ]
     },
     "execution_count": 33,
     "metadata": {},
     "output_type": "execute_result"
    }
   ],
   "source": [
    "import sklearn.metrics as met\n",
    "met.accuracy_score(test, pred)"
   ]
  },
  {
   "cell_type": "code",
   "execution_count": 34,
   "id": "c706eda4",
   "metadata": {},
   "outputs": [
    {
     "data": {
      "text/plain": [
       "array([[221,   0,   2,   0,   0,   1,   0,   0,   0,   3],\n",
       "       [  0,  91,   2,   0,   7,   1,   0,   3,   0,   5],\n",
       "       [  0,   1, 231,  11,   6,   3,   2,   2,   4,  11],\n",
       "       [  3,   0,  12, 210,   6,   3,   1,   2,   4,   8],\n",
       "       [  0,   0,   3,   4, 223,   1,   0,  14,   0,   6],\n",
       "       [  0,   0,   4,   0,   1, 239,   0,   0,   4,   5],\n",
       "       [  0,   0,   8,   8,   1,   0,  70,   3,   0,   1],\n",
       "       [  0,   0,   1,   0,   6,   0,   0, 249,   0,   3],\n",
       "       [  0,   0,   6,   5,   0,   0,   0,   1, 205,   5],\n",
       "       [  1,   1,  14,   8,   9,   2,   0,   5,   2, 209]], dtype=int64)"
      ]
     },
     "execution_count": 34,
     "metadata": {},
     "output_type": "execute_result"
    }
   ],
   "source": [
    "met.confusion_matrix(test, pred)"
   ]
  },
  {
   "cell_type": "code",
   "execution_count": 35,
   "id": "3df99825",
   "metadata": {
    "scrolled": true
   },
   "outputs": [
    {
     "name": "stdout",
     "output_type": "stream",
     "text": [
      "              precision    recall  f1-score   support\n",
      "\n",
      "           0       0.98      0.97      0.98       227\n",
      "           1       0.98      0.83      0.90       109\n",
      "           2       0.82      0.85      0.83       271\n",
      "           3       0.85      0.84      0.85       249\n",
      "           4       0.86      0.89      0.87       251\n",
      "           5       0.96      0.94      0.95       253\n",
      "           6       0.96      0.77      0.85        91\n",
      "           7       0.89      0.96      0.93       259\n",
      "           8       0.94      0.92      0.93       222\n",
      "           9       0.82      0.83      0.82       251\n",
      "\n",
      "    accuracy                           0.89      2183\n",
      "   macro avg       0.91      0.88      0.89      2183\n",
      "weighted avg       0.89      0.89      0.89      2183\n",
      "\n"
     ]
    }
   ],
   "source": [
    "print(met.classification_report(test,pred))"
   ]
  },
  {
   "cell_type": "code",
   "execution_count": 36,
   "id": "19ea395d",
   "metadata": {},
   "outputs": [],
   "source": [
    "from sklearn.ensemble import RandomForestClassifier"
   ]
  },
  {
   "cell_type": "code",
   "execution_count": 37,
   "id": "de561282",
   "metadata": {},
   "outputs": [
    {
     "name": "stderr",
     "output_type": "stream",
     "text": [
      "WARNING: pip is being invoked by an old script wrapper. This will fail in a future version of pip.\n",
      "Please see https://github.com/pypa/pip/issues/5599 for advice on fixing the underlying issue.\n",
      "To avoid this problem you can invoke Python with '-m pip' instead of running pip directly.\n"
     ]
    },
    {
     "name": "stdout",
     "output_type": "stream",
     "text": [
      "Requirement already satisfied: progressbar in c:\\users\\prateek saini\\anaconda3\\lib\\site-packages (2.5)\n"
     ]
    }
   ],
   "source": [
    "from pip._internal import main\n",
    "main([\"install\",\"progressbar\"])\n",
    "import progressbar\n",
    "import time"
   ]
  },
  {
   "cell_type": "code",
   "execution_count": 38,
   "id": "2cb9d0bf",
   "metadata": {},
   "outputs": [],
   "source": [
    "score = []\n",
    "l = [i for i in range(50,300,25)]\n",
    "for i in range(50,300,25):\n",
    "  model = RandomForestClassifier(n_estimators=i ,criterion = \"entropy\", bootstrap= False)\n",
    "  model.fit(x,train)\n",
    "  pred = model.predict(test_x)\n",
    "  score.append(met.accuracy_score(test, pred))"
   ]
  },
  {
   "cell_type": "code",
   "execution_count": 39,
   "id": "17b9773e",
   "metadata": {},
   "outputs": [
    {
     "data": {
      "image/png": "[encoded data removed]",
      "text/plain": [
       "<Figure size 432x288 with 1 Axes>"
      ]
     },
     "metadata": {
      "needs_background": "light"
     },
     "output_type": "display_data"
    }
   ],
   "source": [
    "from matplotlib import pyplot as plt\n",
    "plt.plot(l,score)\n",
    "plt.show()"
   ]
  },
  {
   "cell_type": "code",
   "execution_count": null,
   "id": "6b443ac8",
   "metadata": {},
   "outputs": [],
   "source": []
  },
  {
   "cell_type": "code",
   "execution_count": null,
   "id": "967a849c",
   "metadata": {},
   "outputs": [],
   "source": []
  }
 ],
 "metadata": {
  "kernelspec": {
   "display_name": "Python 3",
   "language": "python",
   "name": "python3"
  },
  "language_info": {
   "codemirror_mode": {
    "name": "ipython",
    "version": 3
   },
   "file_extension": ".py",
   "mimetype": "text/x-python",
   "name": "python",
   "nbconvert_exporter": "python",
   "pygments_lexer": "ipython3",
   "version": "3.8.8"
  }
 },
 "nbformat": 4,
 "nbformat_minor": 5
}
